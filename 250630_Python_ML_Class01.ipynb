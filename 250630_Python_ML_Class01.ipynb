{
  "nbformat": 4,
  "nbformat_minor": 0,
  "metadata": {
    "colab": {
      "provenance": [],
      "authorship_tag": "ABX9TyMB/JoaQW+YO7rWW9zPmLsy",
      "include_colab_link": true
    },
    "kernelspec": {
      "name": "python3",
      "display_name": "Python 3"
    },
    "language_info": {
      "name": "python"
    }
  },
  "cells": [
    {
      "cell_type": "markdown",
      "metadata": {
        "id": "view-in-github",
        "colab_type": "text"
      },
      "source": [
        "<a href=\"https://colab.research.google.com/github/kheit9527/2025_TCFST_Python_ML/blob/main/250630_Python_ML_Class01.ipynb\" target=\"_parent\"><img src=\"https://colab.research.google.com/assets/colab-badge.svg\" alt=\"Open In Colab\"/></a>"
      ]
    },
    {
      "cell_type": "markdown",
      "source": [
        "```python\n",
        "文字編輯功能：Markdown語法(加表格、超連結)\n",
        "缺點：直接輸入時，要留一個空行才是真的換行\n",
        "```\n",
        "aaaa\n",
        "bbbb\n",
        "\n",
        "cccc\n",
        "\n",
        "\n",
        "```\n",
        "LaTeX Math語法\n",
        "```\n",
        "$ \\frac{1}{x^2} \\pi $\n"
      ],
      "metadata": {
        "id": "uxTbZdC3mVDq"
      }
    },
    {
      "cell_type": "code",
      "execution_count": null,
      "metadata": {
        "id": "96c-shEvgX3i"
      },
      "outputs": [],
      "source": []
    }
  ]
}